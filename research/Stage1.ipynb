{
 "cells": [
  {
   "cell_type": "code",
   "execution_count": 1,
   "metadata": {},
   "outputs": [
    {
     "data": {
      "text/plain": [
       "'c:\\\\Users\\\\princ\\\\OneDrive\\\\Desktop\\\\project-python\\\\creditcard'"
      ]
     },
     "execution_count": 1,
     "metadata": {},
     "output_type": "execute_result"
    }
   ],
   "source": [
    "import os \n",
    "\n",
    "os.chdir(\"..\")\n",
    "os.getcwd()"
   ]
  },
  {
   "cell_type": "code",
   "execution_count": 2,
   "metadata": {},
   "outputs": [],
   "source": [
    "import os \n",
    "from datetime import datetime\n",
    "\n",
    "\n",
    "def get_current_time_stamp():\n",
    "    return f\"{datetime.now().strftime('%Y%m%d%H%M%S')}\"\n",
    "\n",
    "\n",
    "ROOT_DIR = os.getcwd()  # to get current working directory\n",
    "CURRENT_TIME_STAMP = get_current_time_stamp()\n",
    "# config constants\n",
    "CONFIG_DIR = os.path.join(ROOT_DIR, 'configs')\n",
    "CONFIG_FILE_NAME = \"config.yaml\"\n",
    "CONFIG_FILE_PATH = os.path.join(CONFIG_DIR, CONFIG_FILE_NAME)"
   ]
  },
  {
   "cell_type": "code",
   "execution_count": 3,
   "metadata": {},
   "outputs": [],
   "source": [
    "from pathlib import Path\n",
    "\n",
    "from pydantic import BaseModel, DirectoryPath, FilePath\n",
    "\n",
    "class DataIngestionConfig(BaseModel):\n",
    "    dataset_download_id: str\n",
    "    raw_data_file_path : Path\n",
    "    ingested_train_file_path :Path\n",
    "    ingested_test_data_path : Path\n",
    "    \n",
    "class  TrainingPipelineConfig(BaseModel):\n",
    "    artifact_dir :DirectoryPath \n",
    "    pipeline_name : str"
   ]
  },
  {
   "cell_type": "code",
   "execution_count": 4,
   "metadata": {},
   "outputs": [],
   "source": [
    "import sys\n",
    "import  os\n",
    "import  json\n",
    "\n",
    "from CreditCard.entity import DataIngestionConfig ,  TrainingPipelineConfig\n",
    "from CreditCard.exception import App_Exception\n",
    "from CreditCard.logging import logger\n",
    "from CreditCard.utils import read_yaml , create_directories\n",
    "from pathlib import Path\n",
    "from CreditCard.constants import CONFIG_FILE_PATH ,  CURRENT_TIME_STAMP , ROOT_DIR\n",
    "\n",
    "\n",
    "\n",
    "class Configuration:\n",
    "\n",
    "    def __init__(self,\n",
    "                 config_file_path: Path = CONFIG_FILE_PATH) -> None:\n",
    "        try:\n",
    "            self.config_info = read_yaml(path_to_yaml=Path(config_file_path))\n",
    "            self.pipeline_config = self.get_training_pipeline_config()\n",
    "            self.time_stamp = CURRENT_TIME_STAMP\n",
    "\n",
    "        except Exception as e:\n",
    "            raise App_Exception(e, sys) from e\n",
    "\n",
    "    def get_data_ingestion_config(self) -> DataIngestionConfig:\n",
    "        \n",
    "        try:\n",
    "            data_ingestion_info = self.config_info.data_ingestion_config\n",
    "            artifact_dir = self.pipeline_config.artifact_dir\n",
    "            dataset_download_id = data_ingestion_info.dataset_download_id\n",
    "            data_ingestion_dir_name = data_ingestion_info.ingestion_dir\n",
    "            raw_data_dir = data_ingestion_info.raw_data_dir\n",
    "            raw_file_name = data_ingestion_info.dataset_download_file_name\n",
    "            data_ingestion_dir = os.path.join(artifact_dir, data_ingestion_dir_name)\n",
    "            raw_data_file_path  = os.path.join(data_ingestion_dir, raw_data_dir, raw_file_name)\n",
    "            ingested_dir_name = data_ingestion_info.ingested_dir\n",
    "            ingested_dir_path = os.path.join(data_ingestion_dir,ingested_dir_name)\n",
    "            \n",
    "            ingested_train_file_path  = os.path.join(ingested_dir_path, data_ingestion_info.ingested_train_file)\n",
    "            ingested_test_file_path = os.path.join(ingested_dir_path, data_ingestion_info.ingested_test_file)\n",
    "            create_directories([os.path.dirname(raw_data_file_path), os.path.dirname(ingested_train_file_path)])\n",
    "            \n",
    "            data_ingestion_config = DataIngestionConfig(dataset_download_id = dataset_download_id , \n",
    "                                                        raw_data_file_path = raw_data_file_path , \n",
    "                                                        ingested_train_file_path = ingested_train_file_path , \n",
    "                                                        ingested_test_data_path  = ingested_test_file_path)\n",
    "            \n",
    "            return data_ingestion_config\n",
    "        except Exception as e:\n",
    "            raise App_Exception(e, sys) from e\n",
    "    def get_training_pipeline_config(self) -> TrainingPipelineConfig:\n",
    "        try:\n",
    "            training_config = self.config_info.training_pipeline_config\n",
    "            training_pipeline_name = training_config.pipeline_name\n",
    "            training_artifacts = os.path.join(ROOT_DIR, training_config.artifact_dir)\n",
    "            create_directories(path_to_directories = [training_artifacts])\n",
    "            training_pipeline_config =  TrainingPipelineConfig(artifact_dir=training_artifacts ,pipeline_name=training_pipeline_name)\n",
    "            logger.info(f\"Training pipeline config: {training_pipeline_config}\")\n",
    "            return training_pipeline_config\n",
    "        except Exception as e:\n",
    "            raise App_Exception(e, sys) from e"
   ]
  },
  {
   "cell_type": "code",
   "execution_count": 5,
   "metadata": {},
   "outputs": [
    {
     "name": "stderr",
     "output_type": "stream",
     "text": [
      "2023-03-12 17:33:08.114 | INFO     | CreditCard.utils.common:read_yaml:30 - yaml file: c:\\Users\\princ\\OneDrive\\Desktop\\project-python\\creditcard\\configs\\config.yaml loaded successfully\n",
      "2023-03-12 17:33:08.116 | INFO     | CreditCard.utils.common:create_directories:49 - created directory at: c:\\Users\\princ\\OneDrive\\Desktop\\project-python\\creditcard\\artifact\n",
      "2023-03-12 17:33:08.116 | INFO     | __main__:get_training_pipeline_config:59 - Training pipeline config: artifact_dir=WindowsPath('c:/Users/princ/OneDrive/Desktop/project-python/creditcard/artifact') pipeline_name='CreditCard'\n"
     ]
    }
   ],
   "source": [
    "config = Configuration()"
   ]
  },
  {
   "cell_type": "code",
   "execution_count": 6,
   "metadata": {},
   "outputs": [
    {
     "data": {
      "text/plain": [
       "str"
      ]
     },
     "execution_count": 6,
     "metadata": {},
     "output_type": "execute_result"
    }
   ],
   "source": [
    "type(CONFIG_FILE_PATH)"
   ]
  },
  {
   "cell_type": "code",
   "execution_count": 7,
   "metadata": {},
   "outputs": [
    {
     "name": "stderr",
     "output_type": "stream",
     "text": [
      "2023-03-12 17:33:08.187 | INFO     | CreditCard.utils.common:create_directories:49 - created directory at: c:\\Users\\princ\\OneDrive\\Desktop\\project-python\\creditcard\\artifact\n",
      "2023-03-12 17:33:08.188 | INFO     | __main__:get_training_pipeline_config:59 - Training pipeline config: artifact_dir=WindowsPath('c:/Users/princ/OneDrive/Desktop/project-python/creditcard/artifact') pipeline_name='CreditCard'\n"
     ]
    },
    {
     "data": {
      "text/plain": [
       "TrainingPipelineConfig(artifact_dir=WindowsPath('c:/Users/princ/OneDrive/Desktop/project-python/creditcard/artifact'), pipeline_name='CreditCard')"
      ]
     },
     "execution_count": 7,
     "metadata": {},
     "output_type": "execute_result"
    }
   ],
   "source": [
    "config.get_training_pipeline_config()"
   ]
  },
  {
   "cell_type": "code",
   "execution_count": 8,
   "metadata": {},
   "outputs": [
    {
     "name": "stderr",
     "output_type": "stream",
     "text": [
      "2023-03-12 17:33:08.229 | INFO     | CreditCard.utils.common:create_directories:49 - created directory at: c:\\Users\\princ\\OneDrive\\Desktop\\project-python\\creditcard\\artifact\\Stage00_data_ingestion\\raw_data\n",
      "2023-03-12 17:33:08.232 | INFO     | CreditCard.utils.common:create_directories:49 - created directory at: c:\\Users\\princ\\OneDrive\\Desktop\\project-python\\creditcard\\artifact\\Stage00_data_ingestion\\ingested_data\n"
     ]
    }
   ],
   "source": [
    "data_ingestion_config = config.get_data_ingestion_config()"
   ]
  },
  {
   "cell_type": "code",
   "execution_count": 9,
   "metadata": {},
   "outputs": [
    {
     "data": {
      "text/plain": [
       "DataIngestionConfig(dataset_download_id='https://raw.githubusercontent.com/pk1308/datasets/master/ucicredit/UCI_Credit_Card.csv', raw_data_file_path=WindowsPath('c:/Users/princ/OneDrive/Desktop/project-python/creditcard/artifact/Stage00_data_ingestion/raw_data/UCI_Credit_Card.csv'), ingested_train_file_path=WindowsPath('c:/Users/princ/OneDrive/Desktop/project-python/creditcard/artifact/Stage00_data_ingestion/ingested_data/train.csv'), ingested_test_data_path=WindowsPath('c:/Users/princ/OneDrive/Desktop/project-python/creditcard/artifact/Stage00_data_ingestion/ingested_data/test.csv'))"
      ]
     },
     "execution_count": 9,
     "metadata": {},
     "output_type": "execute_result"
    }
   ],
   "source": [
    "data_ingestion_config"
   ]
  },
  {
   "cell_type": "code",
   "execution_count": 10,
   "metadata": {},
   "outputs": [],
   "source": [
    "from pathlib import Path\n",
    "\n",
    "from pydantic import BaseModel, DirectoryPath, FilePath\n",
    "\n",
    "class DataIngestionArtifact(BaseModel):\n",
    "    train_file_path : FilePath\n",
    "    test_file_path : FilePath "
   ]
  },
  {
   "cell_type": "code",
   "execution_count": 11,
   "metadata": {},
   "outputs": [
    {
     "name": "stderr",
     "output_type": "stream",
     "text": [
      "2023-03-12 17:33:09.003 | INFO     | CreditCard.utils.common:read_yaml:30 - yaml file: c:\\Users\\princ\\OneDrive\\Desktop\\project-python\\creditcard\\configs\\config.yaml loaded successfully\n",
      "2023-03-12 17:33:09.005 | INFO     | CreditCard.utils.common:create_directories:49 - created directory at: c:\\Users\\princ\\OneDrive\\Desktop\\project-python\\creditcard\\artifact\n",
      "2023-03-12 17:33:09.006 | INFO     | __main__:get_training_pipeline_config:59 - Training pipeline config: artifact_dir=WindowsPath('c:/Users/princ/OneDrive/Desktop/project-python/creditcard/artifact') pipeline_name='CreditCard'\n",
      "2023-03-12 17:33:09.007 | INFO     | CreditCard.utils.common:create_directories:49 - created directory at: c:\\Users\\princ\\OneDrive\\Desktop\\project-python\\creditcard\\artifact\\Stage00_data_ingestion\\raw_data\n",
      "2023-03-12 17:33:09.008 | INFO     | CreditCard.utils.common:create_directories:49 - created directory at: c:\\Users\\princ\\OneDrive\\Desktop\\project-python\\creditcard\\artifact\\Stage00_data_ingestion\\ingested_data\n",
      "2023-03-12 17:33:09.008 | INFO     | __main__:__init__:25 - >>>>>>>>>>>>>>>>>>>>>>>>>>>>>>>>>>>>>>>>Experiment : base Model <<<<<<<<<<<<<<<<<<<<<<<<<<<<<<<<<<<<<<<<\n",
      "2023-03-12 17:33:09.009 | INFO     | __main__:initiate_data_ingestion:80 - >>>>>>>>>>>>>>>>>>>>>>>>>>>>>>>>>>>>>>>>Data Ingestion started.<<<<<<<<<<<<<<<<<<<<<<<<<<<<<<<<<<<<<<<<\n",
      "2023-03-12 17:33:09.010 | INFO     | __main__:download_data:33 - Downloading dataset from github\n",
      "2023-03-12 17:33:10.674 | INFO     | __main__:download_data:36 - Dataset unzipped successfully\n",
      "2023-03-12 17:33:10.675 | INFO     | __main__:split_data_as_train_test:45 - >>>>>>>>>>>>>>>>>>>>>>>>>>>>>>>>>>>>>>>>Data splitting.<<<<<<<<<<<<<<<<<<<<<<<<<<<<<<<<<<<<<<<<\n",
      "2023-03-12 17:33:10.676 | INFO     | __main__:split_data_as_train_test:50 - Reading csv file: [c:\\Users\\princ\\OneDrive\\Desktop\\project-python\\creditcard\\artifact\\Stage00_data_ingestion\\raw_data\\UCI_Credit_Card.csv]\n",
      "2023-03-12 17:33:10.727 | INFO     | __main__:split_data_as_train_test:53 - Splitting data into train and test\n",
      "2023-03-12 17:33:10.736 | INFO     | __main__:split_data_as_train_test:64 - Exporting training dataset to file: [c:\\Users\\princ\\OneDrive\\Desktop\\project-python\\creditcard\\artifact\\Stage00_data_ingestion\\ingested_data\\train.csv]\n",
      "2023-03-12 17:33:10.887 | INFO     | __main__:split_data_as_train_test:68 - Exporting test dataset to file: [c:\\Users\\princ\\OneDrive\\Desktop\\project-python\\creditcard\\artifact\\Stage00_data_ingestion\\ingested_data\\test.csv]\n",
      "2023-03-12 17:33:10.931 | INFO     | __main__:split_data_as_train_test:72 - Data Ingestion artifact:[train_file_path=WindowsPath('c:/Users/princ/OneDrive/Desktop/project-python/creditcard/artifact/Stage00_data_ingestion/ingested_data/train.csv') test_file_path=WindowsPath('c:/Users/princ/OneDrive/Desktop/project-python/creditcard/artifact/Stage00_data_ingestion/ingested_data/test.csv')]\n",
      "2023-03-12 17:33:10.932 | INFO     | __main__:initiate_data_ingestion:87 - >>>>>>>>>>>>>>>>>>>>>>>>>>>>>>>>>>>>>>>>Data Ingestion artifact.<<<<<<<<<<<<<<<<<<<<<<<<<<<<<<<<<<<<<<<<\n",
      "2023-03-12 17:33:10.934 | INFO     | __main__:initiate_data_ingestion:88 -  Data Ingestion Artifacttrain_file_path=WindowsPath('c:/Users/princ/OneDrive/Desktop/project-python/creditcard/artifact/Stage00_data_ingestion/ingested_data/train.csv') test_file_path=WindowsPath('c:/Users/princ/OneDrive/Desktop/project-python/creditcard/artifact/Stage00_data_ingestion/ingested_data/test.csv')\n",
      "2023-03-12 17:33:10.934 | INFO     | __main__:initiate_data_ingestion:89 - >>>>>>>>>>>>>>>>>>>>>>>>>>>>>>>>>>>>>>>>Data Ingestion completed.<<<<<<<<<<<<<<<<<<<<<<<<<<<<<<<<<<<<<<<<\n"
     ]
    }
   ],
   "source": [
    "from CreditCard.entity import DataIngestionConfig , DataIngestionArtifact\n",
    "import sys,os\n",
    "from CreditCard.exception import App_Exception\n",
    "from CreditCard.logging import logger\n",
    "import numpy as np\n",
    "import pandas as pd\n",
    "import gdown\n",
    "from sklearn.model_selection import StratifiedShuffleSplit\n",
    "from CreditCard.constants import *\n",
    "\n",
    "class DataIngestion:\n",
    "    \"\"\"Stage 1 data ingestion : Download dataset, split data into train and test, export to pickle and mongoDb\n",
    "     Input :\n",
    "     DataIngestionConfig =\n",
    "\n",
    "     output :\n",
    "       DataIngestionArtifact(train_file_path,\n",
    "                            test_file_path)\n",
    "        top download the dataset from kaggle we use kaggle api authentication\n",
    "        reference : https://github.com/Kaggle/kaggle-api for more details on kaggle api\"\"\"\n",
    "\n",
    "    def __init__(self, data_ingestion_config_info: DataIngestionConfig):\n",
    "        try:\n",
    "            self.data_ingestion_config = data_ingestion_config_info\n",
    "            logger.info(f\"{'>>' * 20}Experiment : base Model {'<<' * 20}\")\n",
    "        except Exception as e:\n",
    "            raise App_Exception(e, sys)\n",
    "        \n",
    "    def download_data(self,dataset_download_id: str, raw_data_file_path: str) -> str:\n",
    "       \n",
    "        try:\n",
    "            # extraction remote url to download dataset\n",
    "            logger.info(f\"Downloading dataset from github\")\n",
    "            raw_data_frame = pd.read_csv(dataset_download_id)\n",
    "            raw_data_frame.to_csv(raw_data_file_path , index=False)\n",
    "            logger.info(\"Dataset unzipped successfully\")\n",
    "\n",
    "            return True\n",
    "\n",
    "        except Exception as e:\n",
    "            raise App_Exception(e, sys) from e\n",
    "\n",
    "    def split_data_as_train_test(self) -> DataIngestionArtifact:\n",
    "        try:\n",
    "            logger.info(f\"{'>>' * 20}Data splitting.{'<<' * 20}\")\n",
    "            raw_data_file_path = self.data_ingestion_config.raw_data_file_path\n",
    "            train_file_path = self.data_ingestion_config.ingested_train_file_path\n",
    "            test_file_path = self.data_ingestion_config.ingested_test_data_path\n",
    "\n",
    "            logger.info(f\"Reading csv file: [{raw_data_file_path}]\")\n",
    "            raw_data_frame = pd.read_csv(raw_data_file_path)\n",
    "\n",
    "            logger.info(\"Splitting data into train and test\")\n",
    "            strat_train_set = None\n",
    "            strat_test_set = None\n",
    "\n",
    "            split = StratifiedShuffleSplit(n_splits=1, test_size=0.2, random_state=42)\n",
    "\n",
    "            for train_index, test_index in split.split(raw_data_frame, raw_data_frame[\"default.payment.next.month\"]):\n",
    "                strat_train_set = raw_data_frame.loc[train_index]\n",
    "                strat_test_set = raw_data_frame.loc[test_index]\n",
    "\n",
    "            if strat_train_set is not None:\n",
    "                logger.info(f\"Exporting training dataset to file: [{train_file_path}]\")\n",
    "                strat_train_set.to_csv(train_file_path , index=False)\n",
    "\n",
    "            if strat_test_set is not None:\n",
    "                logger.info(f\"Exporting test dataset to file: [{test_file_path}]\")\n",
    "                strat_test_set.to_csv(test_file_path , index=False)\n",
    "                data_ingestion_artifact = DataIngestionArtifact(train_file_path=train_file_path,\n",
    "                                                                test_file_path=test_file_path)                                                               \n",
    "                logger.info(f\"Data Ingestion artifact:[{data_ingestion_artifact}]\")\n",
    "                return data_ingestion_artifact\n",
    "\n",
    "        except Exception as e:\n",
    "            raise App_Exception(e, sys) from e\n",
    "\n",
    "    def initiate_data_ingestion(self) -> DataIngestionArtifact:\n",
    "        try:\n",
    "            logger.info(f\"{'>>' * 20}Data Ingestion started.{'<<' * 20}\")\n",
    "            data_ingestion_config = self.data_ingestion_config\n",
    "            dataset_download_id = data_ingestion_config.dataset_download_id\n",
    "            raw_data_file_path = data_ingestion_config.raw_data_file_path\n",
    "            self.download_data(dataset_download_id,raw_data_file_path)\n",
    "\n",
    "            data_ingestion_response = self.split_data_as_train_test()\n",
    "            logger.info(f\"{'>>' * 20}Data Ingestion artifact.{'<<' * 20}\")\n",
    "            logger.info(f\" Data Ingestion Artifact{data_ingestion_response}\")\n",
    "            logger.info(f\"{'>>' * 20}Data Ingestion completed.{'<<' * 20}\")       \n",
    "            return data_ingestion_response\n",
    "        except Exception as e:\n",
    "            raise App_Exception(e, sys) from e\n",
    "\n",
    "    def __del__(self):\n",
    "       logger.info(f\"{'>>' * 20}Data Ingestion log completed.{'<<' * 20} \\n\\n\")\n",
    "\n",
    "\n",
    "if __name__ == \"__main__\":\n",
    "    config = Configuration()\n",
    "    data_ingestion_config = config.get_data_ingestion_config()\n",
    "    data_ingestion = DataIngestion(data_ingestion_config)\n",
    "    data_ingestion_response = data_ingestion.initiate_data_ingestion()\n"
   ]
  },
  {
   "cell_type": "code",
   "execution_count": null,
   "metadata": {},
   "outputs": [],
   "source": []
  }
 ],
 "metadata": {
  "kernelspec": {
   "display_name": "credit_card",
   "language": "python",
   "name": "python3"
  },
  "language_info": {
   "codemirror_mode": {
    "name": "ipython",
    "version": 3
   },
   "file_extension": ".py",
   "mimetype": "text/x-python",
   "name": "python",
   "nbconvert_exporter": "python",
   "pygments_lexer": "ipython3",
   "version": "3.9.0"
  },
  "orig_nbformat": 4
 },
 "nbformat": 4,
 "nbformat_minor": 2
}
